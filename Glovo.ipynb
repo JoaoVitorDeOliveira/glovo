{
  "nbformat": 4,
  "nbformat_minor": 0,
  "metadata": {
    "colab": {
      "name": "Glovo",
      "provenance": [],
      "authorship_tag": "ABX9TyNBIEqEt9sLypgl8pmVo5jz",
      "include_colab_link": true
    },
    "kernelspec": {
      "name": "python3",
      "display_name": "Python 3"
    },
    "language_info": {
      "name": "python"
    }
  },
  "cells": [
    {
      "cell_type": "markdown",
      "metadata": {
        "id": "view-in-github",
        "colab_type": "text"
      },
      "source": [
        "<a href=\"https://colab.research.google.com/github/JoaoVitorDeOliveira/glovo/blob/main/Glovo.ipynb\" target=\"_parent\"><img src=\"https://colab.research.google.com/assets/colab-badge.svg\" alt=\"Open In Colab\"/></a>"
      ]
    },
    {
      "cell_type": "code",
      "execution_count": 2,
      "metadata": {
        "id": "0ayHsaHelGT-"
      },
      "outputs": [],
      "source": [
        "# All dependecies and configurations to create a Spark Environment on Colab\n",
        "!apt-get install openjdk-8-jdk-headless -qq > /dev/null\n",
        "!wget -q https://archive.apache.org/dist/spark/spark-2.4.4/spark-2.4.4-bin-hadoop2.7.tgz\n",
        "!tar xf spark-2.4.4-bin-hadoop2.7.tgz\n",
        "!pip install -q findspark\n",
        "\n",
        "import os\n",
        "os.environ[\"JAVA_HOME\"] = \"/usr/lib/jvm/java-8-openjdk-amd64\"\n",
        "os.environ[\"SPARK_HOME\"] = \"/content/spark-2.4.4-bin-hadoop2.7\"\n",
        "\n",
        "# make pyspark importable in the environment\n",
        "import findspark\n",
        "findspark.init('spark-2.4.4-bin-hadoop2.7')\n",
        "\n",
        "from pyspark.sql import SparkSession\n",
        "sc = SparkSession.builder.master('local[*]').getOrCreate()"
      ]
    },
    {
      "cell_type": "code",
      "source": [
        "# Download and import csv files to Spark Environment on Colab\n",
        "!wget --quiet --show-progress -O connectivity_status.csv https://raw.githubusercontent.com/JoaoVitorDeOliveira/glovo/main/connectivity_status.csv\n",
        "df_connectivity_status = sc.read.csv(\"./connectivity_status.csv\", inferSchema=True, header=True)\n",
        "\n",
        "!wget --quiet --show-progress -O orders.csv https://raw.githubusercontent.com/JoaoVitorDeOliveira/glovo/main/orders.csv\n",
        "df_orders = sc.read.csv(\"./orders.csv\", inferSchema=True, header=True)\n",
        "\n",
        "!wget --quiet --show-progress -O polling.csv https://raw.githubusercontent.com/JoaoVitorDeOliveira/glovo/main/polling.csv\n",
        "df_polling = sc.read.csv(\"./polling.csv\", inferSchema=True, header=True)"
      ],
      "metadata": {
        "colab": {
          "base_uri": "https://localhost:8080/"
        },
        "id": "apI_p39Kl69o",
        "outputId": "40ac38f7-1cd5-4125-ddcc-5bdcfe3f934c"
      },
      "execution_count": 4,
      "outputs": [
        {
          "output_type": "stream",
          "name": "stdout",
          "text": [
            "connectivity_status 100%[===================>]   2.52M  --.-KB/s    in 0.06s   \n",
            "orders.csv          100%[===================>] 163.77K  --.-KB/s    in 0.02s   \n",
            "polling.csv         100%[===================>]  24.30M   151MB/s    in 0.2s    \n"
          ]
        }
      ]
    },
    {
      "cell_type": "code",
      "source": [
        "df_orders.show()"
      ],
      "metadata": {
        "colab": {
          "base_uri": "https://localhost:8080/"
        },
        "id": "623zZCi-mce0",
        "outputId": "269d26f5-ab2a-4813-9067-217a08116151"
      },
      "execution_count": 11,
      "outputs": [
        {
          "output_type": "stream",
          "name": "stdout",
          "text": [
            "+---+-------------------+---------+--------------------+\n",
            "|_c0|order_creation_time| order_id|           device_id|\n",
            "+---+-------------------+---------+--------------------+\n",
            "|  0|2020-02-26 13:29:00|102523405|                null|\n",
            "|  1|2020-02-26 21:13:24|102641477|                null|\n",
            "|  2|2020-02-26 17:04:33|102563229|                null|\n",
            "|  3|2020-02-26 20:07:45|102622016|                null|\n",
            "|  4|2020-02-26 21:19:25|102643455|                null|\n",
            "|  5|2020-02-26 00:08:19|102452116|d0bc996f-72d2-4ec...|\n",
            "|  6|2020-02-26 10:34:36|102492697|2bb11f99-ab21-462...|\n",
            "|  7|2020-02-26 11:32:47|102500373|2aec0e20-e1d8-432...|\n",
            "|  8|2020-02-26 11:46:17|102503173|37638585-a181-426...|\n",
            "|  9|2020-02-26 11:38:40|102501909|53d16c33-5980-4ad...|\n",
            "| 10|2020-02-26 11:57:53|102504038|3c533ccb-8739-49c...|\n",
            "| 11|2020-02-26 12:26:11|102510286|82fb1d95-c894-449...|\n",
            "| 12|2020-02-26 12:46:31|102514893|7995c021-8983-4f5...|\n",
            "| 13|2020-02-26 12:52:04|102515379|1cdc8ef5-3752-420...|\n",
            "| 14|2020-02-26 13:40:44|102525697|e7dd9fe8-03e8-41a...|\n",
            "| 15|2020-02-26 14:03:08|102529774|4e45b3b4-85c0-4b7...|\n",
            "| 16|2020-02-26 14:49:09|102538753|b16ec522-f02a-4f7...|\n",
            "| 17|2020-02-26 14:54:07|102539659|f6ef8126-4539-429...|\n",
            "| 18|2020-02-26 15:10:59|102542793|c4564dc0-53db-4f9...|\n",
            "| 19|2020-02-26 16:48:55|102562504|fce72c29-13f9-463...|\n",
            "+---+-------------------+---------+--------------------+\n",
            "only showing top 20 rows\n",
            "\n"
          ]
        }
      ]
    },
    {
      "cell_type": "code",
      "source": [
        "df_connectivity_status.show()"
      ],
      "metadata": {
        "colab": {
          "base_uri": "https://localhost:8080/"
        },
        "id": "SUXBTo14oAEn",
        "outputId": "1e225cb7-2bfe-4ad3-883d-cc2eba37d02e"
      },
      "execution_count": 12,
      "outputs": [
        {
          "output_type": "stream",
          "name": "stdout",
          "text": [
            "+---+--------------------+-------+--------------------+\n",
            "|_c0|       creation_time| status|           device_id|\n",
            "+---+--------------------+-------+--------------------+\n",
            "|  0|2020-02-26 19:31:...|OFFLINE|00083c70-7f54-432...|\n",
            "|  1|2020-02-26 19:31:...| ONLINE|00083c70-7f54-432...|\n",
            "|  2|2020-02-26 20:08:...|OFFLINE|000fec74-a5b4-40f...|\n",
            "|  3|2020-02-26 20:09:...| ONLINE|000fec74-a5b4-40f...|\n",
            "|  4|2020-02-26 00:30:...|OFFLINE|001d3c67-99fd-43b...|\n",
            "|  5|2020-02-26 00:30:...| ONLINE|001d3c67-99fd-43b...|\n",
            "|  6|2020-02-26 09:02:...|OFFLINE|002315d2-9ec3-468...|\n",
            "|  7|2020-02-26 09:02:...| ONLINE|002315d2-9ec3-468...|\n",
            "|  8|2020-02-26 03:20:...|OFFLINE|002ec021-a3e8-473...|\n",
            "|  9|2020-02-26 03:20:...|OFFLINE|002ec021-a3e8-473...|\n",
            "| 10|2020-02-26 03:20:...| ONLINE|002ec021-a3e8-473...|\n",
            "| 11|2020-02-26 03:20:...| ONLINE|002ec021-a3e8-473...|\n",
            "| 12|2020-02-26 09:41:...|OFFLINE|002ec021-a3e8-473...|\n",
            "| 13|2020-02-26 09:41:...|OFFLINE|002ec021-a3e8-473...|\n",
            "| 14|2020-02-26 09:41:...| ONLINE|002ec021-a3e8-473...|\n",
            "| 15|2020-02-26 09:41:...| ONLINE|002ec021-a3e8-473...|\n",
            "| 16|2020-02-26 09:42:...|OFFLINE|002ec021-a3e8-473...|\n",
            "| 17|2020-02-26 09:42:...|OFFLINE|002ec021-a3e8-473...|\n",
            "| 18|2020-02-26 09:42:...| ONLINE|002ec021-a3e8-473...|\n",
            "| 19|2020-02-26 09:42:...| ONLINE|002ec021-a3e8-473...|\n",
            "+---+--------------------+-------+--------------------+\n",
            "only showing top 20 rows\n",
            "\n"
          ]
        }
      ]
    },
    {
      "cell_type": "code",
      "source": [
        "df_polling.show()"
      ],
      "metadata": {
        "colab": {
          "base_uri": "https://localhost:8080/"
        },
        "id": "xhdCbzLCoIMr",
        "outputId": "4150a3f3-5aa6-45d8-ad86-335b1c72c80a"
      },
      "execution_count": 10,
      "outputs": [
        {
          "output_type": "stream",
          "name": "stdout",
          "text": [
            "+---+--------------------+--------------------+----------+-----------+\n",
            "|_c0|       creation_time|           device_id|error_code|status_code|\n",
            "+---+--------------------+--------------------+----------+-----------+\n",
            "|  0|2020-02-26 19:16:...|d0460656-95e0-484...|      null|        200|\n",
            "|  1|2020-02-26 19:16:...|d0460656-95e0-484...|      null|        200|\n",
            "|  2|2020-02-26 18:31:...|d0460656-95e0-484...|      null|        200|\n",
            "|  3|2020-02-26 18:31:...|d0460656-95e0-484...|      null|        200|\n",
            "|  4|2020-02-26 18:31:...|d0460656-95e0-484...|      null|        200|\n",
            "|  5|2020-02-26 18:30:...|d0460656-95e0-484...|      null|        200|\n",
            "|  6|2020-02-26 18:30:...|d0460656-95e0-484...|      null|        200|\n",
            "|  7|2020-02-26 18:30:...|d0460656-95e0-484...|      null|        200|\n",
            "|  8|2020-02-26 18:30:...|d0460656-95e0-484...|      null|        200|\n",
            "|  9|2020-02-26 18:30:...|d0460656-95e0-484...|      null|        200|\n",
            "| 10|2020-02-26 18:30:...|d0460656-95e0-484...|      null|        200|\n",
            "| 11|2020-02-26 18:29:...|d0460656-95e0-484...|      null|        200|\n",
            "| 12|2020-02-26 18:27:...|d0460656-95e0-484...|      null|        200|\n",
            "| 13|2020-02-26 18:27:...|d0460656-95e0-484...|      null|        200|\n",
            "| 14|2020-02-26 18:26:...|d0460656-95e0-484...|      null|        200|\n",
            "| 15|2020-02-26 18:26:...|d0460656-95e0-484...|      null|        200|\n",
            "| 16|2020-02-26 18:26:...|d0460656-95e0-484...|      null|        200|\n",
            "| 17|2020-02-26 18:26:...|d0460656-95e0-484...|      null|        200|\n",
            "| 18|2020-02-26 18:25:...|d0460656-95e0-484...|      null|        200|\n",
            "| 19|2020-02-26 18:25:...|d0460656-95e0-484...|      null|        200|\n",
            "+---+--------------------+--------------------+----------+-----------+\n",
            "only showing top 20 rows\n",
            "\n"
          ]
        }
      ]
    },
    {
      "cell_type": "code",
      "source": [
        "df_polling.show()"
      ],
      "metadata": {
        "colab": {
          "base_uri": "https://localhost:8080/"
        },
        "id": "AoixEJvCoMDl",
        "outputId": "b8d33f81-e09d-493b-c9cd-e10d498b8a96"
      },
      "execution_count": 9,
      "outputs": [
        {
          "output_type": "stream",
          "name": "stdout",
          "text": [
            "+---+--------------------+--------------------+----------+-----------+\n",
            "|_c0|       creation_time|           device_id|error_code|status_code|\n",
            "+---+--------------------+--------------------+----------+-----------+\n",
            "|  0|2020-02-26 19:16:...|d0460656-95e0-484...|      null|        200|\n",
            "|  1|2020-02-26 19:16:...|d0460656-95e0-484...|      null|        200|\n",
            "|  2|2020-02-26 18:31:...|d0460656-95e0-484...|      null|        200|\n",
            "|  3|2020-02-26 18:31:...|d0460656-95e0-484...|      null|        200|\n",
            "|  4|2020-02-26 18:31:...|d0460656-95e0-484...|      null|        200|\n",
            "|  5|2020-02-26 18:30:...|d0460656-95e0-484...|      null|        200|\n",
            "|  6|2020-02-26 18:30:...|d0460656-95e0-484...|      null|        200|\n",
            "|  7|2020-02-26 18:30:...|d0460656-95e0-484...|      null|        200|\n",
            "|  8|2020-02-26 18:30:...|d0460656-95e0-484...|      null|        200|\n",
            "|  9|2020-02-26 18:30:...|d0460656-95e0-484...|      null|        200|\n",
            "| 10|2020-02-26 18:30:...|d0460656-95e0-484...|      null|        200|\n",
            "| 11|2020-02-26 18:29:...|d0460656-95e0-484...|      null|        200|\n",
            "| 12|2020-02-26 18:27:...|d0460656-95e0-484...|      null|        200|\n",
            "| 13|2020-02-26 18:27:...|d0460656-95e0-484...|      null|        200|\n",
            "| 14|2020-02-26 18:26:...|d0460656-95e0-484...|      null|        200|\n",
            "| 15|2020-02-26 18:26:...|d0460656-95e0-484...|      null|        200|\n",
            "| 16|2020-02-26 18:26:...|d0460656-95e0-484...|      null|        200|\n",
            "| 17|2020-02-26 18:26:...|d0460656-95e0-484...|      null|        200|\n",
            "| 18|2020-02-26 18:25:...|d0460656-95e0-484...|      null|        200|\n",
            "| 19|2020-02-26 18:25:...|d0460656-95e0-484...|      null|        200|\n",
            "+---+--------------------+--------------------+----------+-----------+\n",
            "only showing top 20 rows\n",
            "\n"
          ]
        }
      ]
    },
    {
      "cell_type": "code",
      "source": [
        ""
      ],
      "metadata": {
        "id": "dTXj_glZo1wd"
      },
      "execution_count": null,
      "outputs": []
    }
  ]
}