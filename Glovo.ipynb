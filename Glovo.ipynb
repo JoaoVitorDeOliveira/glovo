{
  "nbformat": 4,
  "nbformat_minor": 0,
  "metadata": {
    "colab": {
      "name": "Glovo",
      "provenance": [],
      "authorship_tag": "ABX9TyPzsAqUcoqRKClEyXHNUUdS",
      "include_colab_link": true
    },
    "kernelspec": {
      "name": "python3",
      "display_name": "Python 3"
    },
    "language_info": {
      "name": "python"
    }
  },
  "cells": [
    {
      "cell_type": "markdown",
      "metadata": {
        "id": "view-in-github",
        "colab_type": "text"
      },
      "source": [
        "<a href=\"https://colab.research.google.com/github/JoaoVitorDeOliveira/glovo/blob/main/Glovo.ipynb\" target=\"_parent\"><img src=\"https://colab.research.google.com/assets/colab-badge.svg\" alt=\"Open In Colab\"/></a>"
      ]
    },
    {
      "cell_type": "code",
      "execution_count": 1,
      "metadata": {
        "id": "0ayHsaHelGT-"
      },
      "outputs": [],
      "source": [
        "# All dependecies and configurations to create a Spark Environment on Colab\n",
        "!apt-get install openjdk-8-jdk-headless -qq > /dev/null\n",
        "!wget -q https://archive.apache.org/dist/spark/spark-2.4.4/spark-2.4.4-bin-hadoop2.7.tgz\n",
        "!tar xf spark-2.4.4-bin-hadoop2.7.tgz\n",
        "!pip install -q findspark\n",
        "\n",
        "import os\n",
        "os.environ[\"JAVA_HOME\"] = \"/usr/lib/jvm/java-8-openjdk-amd64\"\n",
        "os.environ[\"SPARK_HOME\"] = \"/content/spark-2.4.4-bin-hadoop2.7\"\n",
        "\n",
        "# make pyspark importable in the environment\n",
        "import findspark\n",
        "findspark.init('spark-2.4.4-bin-hadoop2.7')"
      ]
    },
    {
      "cell_type": "code",
      "source": [
        "from pyspark.sql import SparkSession\n",
        "sc = SparkSession.builder.master('local[*]').getOrCreate()"
      ],
      "metadata": {
        "id": "_tcZSZTjA7P8"
      },
      "execution_count": 2,
      "outputs": []
    },
    {
      "cell_type": "code",
      "source": [
        "# Download and import csv files to Spark Environment on Colab\n",
        "!wget --quiet --show-progress -O connectivity_status.csv https://raw.githubusercontent.com/JoaoVitorDeOliveira/glovo/main/connectivity_status.csv\n",
        "df_connectivity_status = sc.read.csv(\"./connectivity_status.csv\", inferSchema=True, header=True)\n",
        "\n",
        "!wget --quiet --show-progress -O orders.csv https://raw.githubusercontent.com/JoaoVitorDeOliveira/glovo/main/orders.csv\n",
        "df_orders = sc.read.csv(\"./orders.csv\", inferSchema=True, header=True)\n",
        "\n",
        "!wget --quiet --show-progress -O polling.csv https://raw.githubusercontent.com/JoaoVitorDeOliveira/glovo/main/polling.csv\n",
        "df_polling = sc.read.csv(\"./polling.csv\", inferSchema=True, header=True)"
      ],
      "metadata": {
        "colab": {
          "base_uri": "https://localhost:8080/"
        },
        "id": "apI_p39Kl69o",
        "outputId": "401bffd1-e349-426a-e74a-daadd3d83243"
      },
      "execution_count": 3,
      "outputs": [
        {
          "output_type": "stream",
          "name": "stdout",
          "text": [
            "connectivity_status 100%[===================>]   2.52M  --.-KB/s    in 0.07s   \n",
            "orders.csv          100%[===================>] 163.77K  --.-KB/s    in 0.02s   \n",
            "polling.csv         100%[===================>]  24.30M   161MB/s    in 0.2s    \n"
          ]
        }
      ]
    },
    {
      "cell_type": "code",
      "source": [
        "df_orders.show()"
      ],
      "metadata": {
        "colab": {
          "base_uri": "https://localhost:8080/"
        },
        "id": "623zZCi-mce0",
        "outputId": "269d26f5-ab2a-4813-9067-217a08116151"
      },
      "execution_count": null,
      "outputs": [
        {
          "output_type": "stream",
          "name": "stdout",
          "text": [
            "+---+-------------------+---------+--------------------+\n",
            "|_c0|order_creation_time| order_id|           device_id|\n",
            "+---+-------------------+---------+--------------------+\n",
            "|  0|2020-02-26 13:29:00|102523405|                null|\n",
            "|  1|2020-02-26 21:13:24|102641477|                null|\n",
            "|  2|2020-02-26 17:04:33|102563229|                null|\n",
            "|  3|2020-02-26 20:07:45|102622016|                null|\n",
            "|  4|2020-02-26 21:19:25|102643455|                null|\n",
            "|  5|2020-02-26 00:08:19|102452116|d0bc996f-72d2-4ec...|\n",
            "|  6|2020-02-26 10:34:36|102492697|2bb11f99-ab21-462...|\n",
            "|  7|2020-02-26 11:32:47|102500373|2aec0e20-e1d8-432...|\n",
            "|  8|2020-02-26 11:46:17|102503173|37638585-a181-426...|\n",
            "|  9|2020-02-26 11:38:40|102501909|53d16c33-5980-4ad...|\n",
            "| 10|2020-02-26 11:57:53|102504038|3c533ccb-8739-49c...|\n",
            "| 11|2020-02-26 12:26:11|102510286|82fb1d95-c894-449...|\n",
            "| 12|2020-02-26 12:46:31|102514893|7995c021-8983-4f5...|\n",
            "| 13|2020-02-26 12:52:04|102515379|1cdc8ef5-3752-420...|\n",
            "| 14|2020-02-26 13:40:44|102525697|e7dd9fe8-03e8-41a...|\n",
            "| 15|2020-02-26 14:03:08|102529774|4e45b3b4-85c0-4b7...|\n",
            "| 16|2020-02-26 14:49:09|102538753|b16ec522-f02a-4f7...|\n",
            "| 17|2020-02-26 14:54:07|102539659|f6ef8126-4539-429...|\n",
            "| 18|2020-02-26 15:10:59|102542793|c4564dc0-53db-4f9...|\n",
            "| 19|2020-02-26 16:48:55|102562504|fce72c29-13f9-463...|\n",
            "+---+-------------------+---------+--------------------+\n",
            "only showing top 20 rows\n",
            "\n"
          ]
        }
      ]
    },
    {
      "cell_type": "code",
      "source": [
        "df_connectivity_status.show()"
      ],
      "metadata": {
        "colab": {
          "base_uri": "https://localhost:8080/"
        },
        "id": "SUXBTo14oAEn",
        "outputId": "1e225cb7-2bfe-4ad3-883d-cc2eba37d02e"
      },
      "execution_count": null,
      "outputs": [
        {
          "output_type": "stream",
          "name": "stdout",
          "text": [
            "+---+--------------------+-------+--------------------+\n",
            "|_c0|       creation_time| status|           device_id|\n",
            "+---+--------------------+-------+--------------------+\n",
            "|  0|2020-02-26 19:31:...|OFFLINE|00083c70-7f54-432...|\n",
            "|  1|2020-02-26 19:31:...| ONLINE|00083c70-7f54-432...|\n",
            "|  2|2020-02-26 20:08:...|OFFLINE|000fec74-a5b4-40f...|\n",
            "|  3|2020-02-26 20:09:...| ONLINE|000fec74-a5b4-40f...|\n",
            "|  4|2020-02-26 00:30:...|OFFLINE|001d3c67-99fd-43b...|\n",
            "|  5|2020-02-26 00:30:...| ONLINE|001d3c67-99fd-43b...|\n",
            "|  6|2020-02-26 09:02:...|OFFLINE|002315d2-9ec3-468...|\n",
            "|  7|2020-02-26 09:02:...| ONLINE|002315d2-9ec3-468...|\n",
            "|  8|2020-02-26 03:20:...|OFFLINE|002ec021-a3e8-473...|\n",
            "|  9|2020-02-26 03:20:...|OFFLINE|002ec021-a3e8-473...|\n",
            "| 10|2020-02-26 03:20:...| ONLINE|002ec021-a3e8-473...|\n",
            "| 11|2020-02-26 03:20:...| ONLINE|002ec021-a3e8-473...|\n",
            "| 12|2020-02-26 09:41:...|OFFLINE|002ec021-a3e8-473...|\n",
            "| 13|2020-02-26 09:41:...|OFFLINE|002ec021-a3e8-473...|\n",
            "| 14|2020-02-26 09:41:...| ONLINE|002ec021-a3e8-473...|\n",
            "| 15|2020-02-26 09:41:...| ONLINE|002ec021-a3e8-473...|\n",
            "| 16|2020-02-26 09:42:...|OFFLINE|002ec021-a3e8-473...|\n",
            "| 17|2020-02-26 09:42:...|OFFLINE|002ec021-a3e8-473...|\n",
            "| 18|2020-02-26 09:42:...| ONLINE|002ec021-a3e8-473...|\n",
            "| 19|2020-02-26 09:42:...| ONLINE|002ec021-a3e8-473...|\n",
            "+---+--------------------+-------+--------------------+\n",
            "only showing top 20 rows\n",
            "\n"
          ]
        }
      ]
    },
    {
      "cell_type": "code",
      "source": [
        "df_polling.show()"
      ],
      "metadata": {
        "colab": {
          "base_uri": "https://localhost:8080/"
        },
        "id": "xhdCbzLCoIMr",
        "outputId": "4150a3f3-5aa6-45d8-ad86-335b1c72c80a"
      },
      "execution_count": null,
      "outputs": [
        {
          "output_type": "stream",
          "name": "stdout",
          "text": [
            "+---+--------------------+--------------------+----------+-----------+\n",
            "|_c0|       creation_time|           device_id|error_code|status_code|\n",
            "+---+--------------------+--------------------+----------+-----------+\n",
            "|  0|2020-02-26 19:16:...|d0460656-95e0-484...|      null|        200|\n",
            "|  1|2020-02-26 19:16:...|d0460656-95e0-484...|      null|        200|\n",
            "|  2|2020-02-26 18:31:...|d0460656-95e0-484...|      null|        200|\n",
            "|  3|2020-02-26 18:31:...|d0460656-95e0-484...|      null|        200|\n",
            "|  4|2020-02-26 18:31:...|d0460656-95e0-484...|      null|        200|\n",
            "|  5|2020-02-26 18:30:...|d0460656-95e0-484...|      null|        200|\n",
            "|  6|2020-02-26 18:30:...|d0460656-95e0-484...|      null|        200|\n",
            "|  7|2020-02-26 18:30:...|d0460656-95e0-484...|      null|        200|\n",
            "|  8|2020-02-26 18:30:...|d0460656-95e0-484...|      null|        200|\n",
            "|  9|2020-02-26 18:30:...|d0460656-95e0-484...|      null|        200|\n",
            "| 10|2020-02-26 18:30:...|d0460656-95e0-484...|      null|        200|\n",
            "| 11|2020-02-26 18:29:...|d0460656-95e0-484...|      null|        200|\n",
            "| 12|2020-02-26 18:27:...|d0460656-95e0-484...|      null|        200|\n",
            "| 13|2020-02-26 18:27:...|d0460656-95e0-484...|      null|        200|\n",
            "| 14|2020-02-26 18:26:...|d0460656-95e0-484...|      null|        200|\n",
            "| 15|2020-02-26 18:26:...|d0460656-95e0-484...|      null|        200|\n",
            "| 16|2020-02-26 18:26:...|d0460656-95e0-484...|      null|        200|\n",
            "| 17|2020-02-26 18:26:...|d0460656-95e0-484...|      null|        200|\n",
            "| 18|2020-02-26 18:25:...|d0460656-95e0-484...|      null|        200|\n",
            "| 19|2020-02-26 18:25:...|d0460656-95e0-484...|      null|        200|\n",
            "+---+--------------------+--------------------+----------+-----------+\n",
            "only showing top 20 rows\n",
            "\n"
          ]
        }
      ]
    },
    {
      "cell_type": "code",
      "source": [
        "df_orders_polling_con_status = (df_orders\n",
        "                                .join(df_polling, 'device_id', 'outer')\n",
        "                                .withColumnRenamed('creation_time', 'polling_creation_time')\n",
        "                                .join(df_connectivity_status, 'device_id', 'outer')\n",
        "                                .withColumnRenamed('creation_time', 'status_creation_time')\n",
        "                                .drop('_c0'))\n",
        "df_orders_polling_con_status.show()"
      ],
      "metadata": {
        "colab": {
          "base_uri": "https://localhost:8080/"
        },
        "id": "vW3aVuwgv4Fm",
        "outputId": "c7b03c2f-7622-4ebf-9612-c160c1fcb15c"
      },
      "execution_count": 4,
      "outputs": [
        {
          "output_type": "stream",
          "name": "stdout",
          "text": [
            "+--------------------+-------------------+--------+---------------------+----------+-----------+--------------------+-------+\n",
            "|           device_id|order_creation_time|order_id|polling_creation_time|error_code|status_code|status_creation_time| status|\n",
            "+--------------------+-------------------+--------+---------------------+----------+-----------+--------------------+-------+\n",
            "|004fbfe1-a85a-4ab...|               null|    null|                 null|      null|       null|2020-02-26 07:22:...| ONLINE|\n",
            "|004fbfe1-a85a-4ab...|               null|    null|                 null|      null|       null|2020-02-26 08:27:...|OFFLINE|\n",
            "|004fbfe1-a85a-4ab...|               null|    null|                 null|      null|       null|2020-02-26 08:38:...| ONLINE|\n",
            "|004fbfe1-a85a-4ab...|               null|    null|                 null|      null|       null|2020-02-26 12:44:...|OFFLINE|\n",
            "|004fbfe1-a85a-4ab...|               null|    null|                 null|      null|       null|2020-02-26 12:49:...| ONLINE|\n",
            "|004fbfe1-a85a-4ab...|               null|    null|                 null|      null|       null|2020-02-26 17:21:...|OFFLINE|\n",
            "|004fbfe1-a85a-4ab...|               null|    null|                 null|      null|       null|2020-02-26 19:36:...| ONLINE|\n",
            "|004fbfe1-a85a-4ab...|               null|    null|                 null|      null|       null|2020-02-26 22:00:...|OFFLINE|\n",
            "|275242de-7b01-4dc...|               null|    null|                 null|      null|       null|2020-02-26 06:46:...|OFFLINE|\n",
            "|275242de-7b01-4dc...|               null|    null|                 null|      null|       null|2020-02-26 06:47:...| ONLINE|\n",
            "|275242de-7b01-4dc...|               null|    null|                 null|      null|       null|2020-02-26 08:46:...|OFFLINE|\n",
            "|275242de-7b01-4dc...|               null|    null|                 null|      null|       null|2020-02-26 08:46:...| ONLINE|\n",
            "|275242de-7b01-4dc...|               null|    null|                 null|      null|       null|2020-02-26 18:47:...|OFFLINE|\n",
            "|275242de-7b01-4dc...|               null|    null|                 null|      null|       null|2020-02-26 18:47:...| ONLINE|\n",
            "|40b468fa-f1c0-403...|               null|    null|                 null|      null|       null|2020-02-26 18:49:...|OFFLINE|\n",
            "|40b468fa-f1c0-403...|               null|    null|                 null|      null|       null|2020-02-26 18:49:...| ONLINE|\n",
            "|40b468fa-f1c0-403...|               null|    null|                 null|      null|       null|2020-02-26 20:26:...|OFFLINE|\n",
            "|40b468fa-f1c0-403...|               null|    null|                 null|      null|       null|2020-02-26 20:26:...| ONLINE|\n",
            "|40b468fa-f1c0-403...|               null|    null|                 null|      null|       null|2020-02-26 21:22:...|OFFLINE|\n",
            "|40b468fa-f1c0-403...|               null|    null|                 null|      null|       null|2020-02-26 21:22:...| ONLINE|\n",
            "+--------------------+-------------------+--------+---------------------+----------+-----------+--------------------+-------+\n",
            "only showing top 20 rows\n",
            "\n"
          ]
        }
      ]
    },
    {
      "cell_type": "code",
      "source": [
        "df_orders_polling_con_status = df_orders_polling_con_status.where('order_creation_time IS NOT NULL')"
      ],
      "metadata": {
        "id": "b7wCRXWix56z"
      },
      "execution_count": 5,
      "outputs": []
    },
    {
      "cell_type": "code",
      "source": [
        "import pyspark.sql.functions as f\n",
        "from pyspark.sql.window import Window"
      ],
      "metadata": {
        "id": "gVQ9bi987DQ4"
      },
      "execution_count": 6,
      "outputs": []
    },
    {
      "cell_type": "code",
      "source": [
        "df_orders_polling_con_status.printSchema()"
      ],
      "metadata": {
        "colab": {
          "base_uri": "https://localhost:8080/"
        },
        "id": "rij1IAa59l3A",
        "outputId": "eef816b5-564d-41e6-cb1b-53f133d85f0b"
      },
      "execution_count": null,
      "outputs": [
        {
          "output_type": "stream",
          "name": "stdout",
          "text": [
            "root\n",
            " |-- device_id: string (nullable = true)\n",
            " |-- _c0: integer (nullable = true)\n",
            " |-- order_creation_time: timestamp (nullable = true)\n",
            " |-- order_id: integer (nullable = true)\n",
            " |-- _c0: integer (nullable = true)\n",
            " |-- creation_time: timestamp (nullable = true)\n",
            " |-- error_code: string (nullable = true)\n",
            " |-- status_code: integer (nullable = true)\n",
            " |-- _c0: integer (nullable = true)\n",
            " |-- creation_time: timestamp (nullable = true)\n",
            " |-- status: string (nullable = true)\n",
            "\n"
          ]
        }
      ]
    },
    {
      "cell_type": "code",
      "source": [
        "df_enhanced = (df_orders_polling_con_status\n",
        "               .withColumn(\"pct_preceding\", f.lead(\"polling_creation_time\",1).over(Window.orderBy('polling_creation_time')))\n",
        "               .withColumn(\"pct_following\", f.lag(\"polling_creation_time\",1).over(Window.orderBy('polling_creation_time'))))"
      ],
      "metadata": {
        "id": "H69wUEqfFtMR"
      },
      "execution_count": 7,
      "outputs": []
    },
    {
      "cell_type": "code",
      "source": [
        "df_enhanced.show()"
      ],
      "metadata": {
        "colab": {
          "base_uri": "https://localhost:8080/"
        },
        "id": "4cRyuiprV6m7",
        "outputId": "4e159679-3029-4b86-e63d-aa3d2dab2b50"
      },
      "execution_count": 12,
      "outputs": [
        {
          "output_type": "stream",
          "name": "stdout",
          "text": [
            "+--------------------+-------------------+---------+---------------------+----------+-----------+--------------------+------+-------------+-------------+\n",
            "|           device_id|order_creation_time| order_id|polling_creation_time|error_code|status_code|status_creation_time|status|pct_preceding|pct_following|\n",
            "+--------------------+-------------------+---------+---------------------+----------+-----------+--------------------+------+-------------+-------------+\n",
            "|94fd89c6-6324-465...|2020-02-26 15:14:48|102543610|                 null|      null|       null|                null|  null|         null|         null|\n",
            "|                null|2020-02-26 13:29:00|102523405|                 null|      null|       null|                null|  null|         null|         null|\n",
            "|cbe2077e-216b-4bd...|2020-02-26 19:49:23|102615045|                 null|      null|       null|                null|  null|         null|         null|\n",
            "|                null|2020-02-26 21:13:24|102641477|                 null|      null|       null|                null|  null|         null|         null|\n",
            "|10b1cb0b-672b-4d4...|2020-02-26 21:44:38|102648381|                 null|      null|       null|                null|  null|         null|         null|\n",
            "|                null|2020-02-26 17:04:33|102563229|                 null|      null|       null|                null|  null|         null|         null|\n",
            "|10b1cb0b-672b-4d4...|2020-02-26 16:38:20|102559930|                 null|      null|       null|                null|  null|         null|         null|\n",
            "|                null|2020-02-26 20:07:45|102622016|                 null|      null|       null|                null|  null|         null|         null|\n",
            "|10b1cb0b-672b-4d4...|2020-02-26 21:36:11|102646922|                 null|      null|       null|                null|  null|         null|         null|\n",
            "|                null|2020-02-26 21:19:25|102643455|                 null|      null|       null|                null|  null|         null|         null|\n",
            "|75e865b8-7d79-46b...|2020-02-26 21:40:30|102647669|                 null|      null|       null|                null|  null|         null|         null|\n",
            "|                null|2020-02-26 21:41:51|102647891|                 null|      null|       null|                null|  null|         null|         null|\n",
            "|75e865b8-7d79-46b...|2020-02-26 20:02:52|102620768|                 null|      null|       null|                null|  null|         null|         null|\n",
            "|                null|2020-02-26 18:00:36|102580377|                 null|      null|       null|                null|  null|         null|         null|\n",
            "|75e865b8-7d79-46b...|2020-02-26 19:27:05|102607912|                 null|      null|       null|                null|  null|         null|         null|\n",
            "|                null|2020-02-26 15:13:52|102543392|                 null|      null|       null|                null|  null|         null|         null|\n",
            "|75e865b8-7d79-46b...|2020-02-26 20:14:50|102622925|                 null|      null|       null|                null|  null|         null|         null|\n",
            "|                null|2020-02-26 11:29:31|102499958|                 null|      null|       null|                null|  null|         null|         null|\n",
            "|75e865b8-7d79-46b...|2020-02-26 12:55:08|102516603|                 null|      null|       null|                null|  null|         null|         null|\n",
            "|                null|2020-02-26 11:03:45|102496384|                 null|      null|       null|                null|  null|         null|         null|\n",
            "+--------------------+-------------------+---------+---------------------+----------+-----------+--------------------+------+-------------+-------------+\n",
            "only showing top 20 rows\n",
            "\n"
          ]
        }
      ]
    },
    {
      "cell_type": "code",
      "source": [
        "df_enhanced.createOrReplaceTempView('ORDERS')"
      ],
      "metadata": {
        "id": "QX3Wbr6OStOe"
      },
      "execution_count": 10,
      "outputs": []
    },
    {
      "cell_type": "markdown",
      "source": [
        "## The total count of all polling events Three minutes before the order creation time\n",
        "\n"
      ],
      "metadata": {
        "id": "IYIXg1VccGwE"
      }
    },
    {
      "cell_type": "code",
      "source": [
        "query = '''SELECT order_id, count(1) as all_polling_events_minus_three_min\n",
        "           FROM ORDERS\n",
        "           WHERE polling_creation_time IS NOT NULL\n",
        "           AND polling_creation_time <= (order_creation_time - INTERVAL 3 minutes) \n",
        "           GROUP BY order_id\n",
        "        '''\n",
        "all_polling_minus_three_min = sc.sql(query)\n",
        "all_polling_minus_three_min.show()"
      ],
      "metadata": {
        "colab": {
          "base_uri": "https://localhost:8080/"
        },
        "id": "G1uwV-5hVyJU",
        "outputId": "f4264b43-5968-42a9-a2e7-22d59ea38717"
      },
      "execution_count": 19,
      "outputs": [
        {
          "output_type": "stream",
          "name": "stdout",
          "text": [
            "+---------+----------------------------------+\n",
            "| order_id|all_polling_events_minus_three_min|\n",
            "+---------+----------------------------------+\n",
            "|102638473|                              1443|\n",
            "|102513750|                               942|\n",
            "|102609981|                              3105|\n",
            "|102603465|                              3036|\n",
            "|102565868|                               465|\n",
            "|102535727|                              3161|\n",
            "|102651853|                               550|\n",
            "|102602920|                               310|\n",
            "|102594830|                               634|\n",
            "|102551214|                              3752|\n",
            "|102633195|                              2669|\n",
            "|102516534|                              2388|\n",
            "|102650480|                              2707|\n",
            "|102540074|                              2036|\n",
            "|102650281|                              3781|\n",
            "|102648123|                              2353|\n",
            "|102517631|                              2804|\n",
            "|102571599|                                41|\n",
            "|102644931|                               730|\n",
            "|102541072|                               413|\n",
            "+---------+----------------------------------+\n",
            "only showing top 20 rows\n",
            "\n"
          ]
        }
      ]
    },
    {
      "cell_type": "markdown",
      "source": [
        "## The total count of all polling events Three minutes after the order creation time"
      ],
      "metadata": {
        "id": "zMHdqTolcXLN"
      }
    },
    {
      "cell_type": "code",
      "source": [
        "query = '''SELECT order_id, count(1) as all_polling_events_plus_three_min\n",
        "           FROM ORDERS\n",
        "           WHERE polling_creation_time IS NOT NULL\n",
        "           AND polling_creation_time <= (order_creation_time + INTERVAL 3 minutes) \n",
        "           GROUP BY order_id\n",
        "        '''\n",
        "all_polling_plus_three_min = sc.sql(query)\n",
        "all_polling_plus_three_min.show()"
      ],
      "metadata": {
        "colab": {
          "base_uri": "https://localhost:8080/"
        },
        "id": "AoixEJvCoMDl",
        "outputId": "ce92d4aa-3d27-4e29-abe1-57210a32f3ee"
      },
      "execution_count": 20,
      "outputs": [
        {
          "output_type": "stream",
          "name": "stdout",
          "text": [
            "+---------+---------------------------------+\n",
            "| order_id|all_polling_events_plus_three_min|\n",
            "+---------+---------------------------------+\n",
            "|102638473|                             1443|\n",
            "|102513750|                              988|\n",
            "|102609981|                             3128|\n",
            "|102603465|                             3059|\n",
            "|102565868|                              485|\n",
            "|102535727|                             3172|\n",
            "|102651853|                              550|\n",
            "|102602920|                              311|\n",
            "|102594830|                              646|\n",
            "|102551214|                             3798|\n",
            "|102633195|                             2693|\n",
            "|102516534|                             2480|\n",
            "|102650480|                             2730|\n",
            "|102540074|                             2059|\n",
            "|102650281|                             3799|\n",
            "|102648123|                             2375|\n",
            "|102517631|                             2827|\n",
            "|102571599|                               41|\n",
            "|102644931|                              734|\n",
            "|102541072|                              423|\n",
            "+---------+---------------------------------+\n",
            "only showing top 20 rows\n",
            "\n"
          ]
        }
      ]
    },
    {
      "cell_type": "markdown",
      "source": [
        "## The total count of all polling events One hour before the order creation time"
      ],
      "metadata": {
        "id": "HKACoMKpciEh"
      }
    },
    {
      "cell_type": "code",
      "source": [
        "query = '''SELECT order_id, count(1) as all_polling_events_minus_one_hour\n",
        "           FROM ORDERS\n",
        "           WHERE polling_creation_time IS NOT NULL\n",
        "           AND polling_creation_time <= (order_creation_time - INTERVAL 1 hour) \n",
        "           GROUP BY order_id\n",
        "        '''\n",
        "all_polling_minus_one_hour = sc.sql(query)\n",
        "all_polling_minus_one_hour.show()"
      ],
      "metadata": {
        "colab": {
          "base_uri": "https://localhost:8080/"
        },
        "id": "MDi0OKiVb9SI",
        "outputId": "6fa51e46-ad0a-4f43-ad69-16fc68b971b3"
      },
      "execution_count": 21,
      "outputs": [
        {
          "output_type": "stream",
          "name": "stdout",
          "text": [
            "+---------+---------------------------------+\n",
            "| order_id|all_polling_events_minus_one_hour|\n",
            "+---------+---------------------------------+\n",
            "|102638473|                             1443|\n",
            "|102513750|                              500|\n",
            "|102609981|                             2885|\n",
            "|102603465|                             2814|\n",
            "|102565868|                              449|\n",
            "|102535727|                             2941|\n",
            "|102651853|                              439|\n",
            "|102602920|                              270|\n",
            "|102594830|                              621|\n",
            "|102551214|                             3314|\n",
            "|102633195|                             2447|\n",
            "|102516534|                             1516|\n",
            "|102650480|                             2486|\n",
            "|102540074|                             1816|\n",
            "|102648123|                             2155|\n",
            "|102650281|                             3370|\n",
            "|102517631|                             2582|\n",
            "|102571599|                               41|\n",
            "|102644931|                              704|\n",
            "|102541072|                              334|\n",
            "+---------+---------------------------------+\n",
            "only showing top 20 rows\n",
            "\n"
          ]
        }
      ]
    },
    {
      "cell_type": "code",
      "source": [
        "df_all_polling_events = all_polling_minus_three_min.join(all_polling_plus_three_min, 'order_id').join(all_polling_minus_one_hour, 'order_id')\n",
        "df_all_polling_events.show()"
      ],
      "metadata": {
        "colab": {
          "base_uri": "https://localhost:8080/"
        },
        "id": "dMhQMt5SD89K",
        "outputId": "3d21d7d8-77a2-47f8-cc1d-192140a84e2e"
      },
      "execution_count": 22,
      "outputs": [
        {
          "output_type": "stream",
          "name": "stdout",
          "text": [
            "+---------+----------------------------------+---------------------------------+---------------------------------+\n",
            "| order_id|all_polling_events_minus_three_min|all_polling_events_plus_three_min|all_polling_events_minus_one_hour|\n",
            "+---------+----------------------------------+---------------------------------+---------------------------------+\n",
            "|102513750|                               942|                              988|                              500|\n",
            "|102535727|                              3161|                             3172|                             2941|\n",
            "|102551214|                              3752|                             3798|                             3314|\n",
            "|102565868|                               465|                              485|                              449|\n",
            "|102594830|                               634|                              646|                              621|\n",
            "|102602920|                               310|                              311|                              270|\n",
            "|102603465|                              3036|                             3059|                             2814|\n",
            "|102609981|                              3105|                             3128|                             2885|\n",
            "|102638473|                              1443|                             1443|                             1443|\n",
            "|102651853|                               550|                              550|                              439|\n",
            "|102516534|                              2388|                             2480|                             1516|\n",
            "|102517631|                              2804|                             2827|                             2582|\n",
            "|102540074|                              2036|                             2059|                             1816|\n",
            "|102541072|                               413|                              423|                              334|\n",
            "|102571599|                                41|                               41|                               41|\n",
            "|102633195|                              2669|                             2693|                             2447|\n",
            "|102644931|                               730|                              734|                              704|\n",
            "|102648123|                              2353|                             2375|                             2155|\n",
            "|102650281|                              3781|                             3799|                             3370|\n",
            "|102650480|                              2707|                             2730|                             2486|\n",
            "+---------+----------------------------------+---------------------------------+---------------------------------+\n",
            "only showing top 20 rows\n",
            "\n"
          ]
        }
      ]
    },
    {
      "cell_type": "markdown",
      "source": [
        "## The count of each type of polling status_code Three minutes before the order creation time"
      ],
      "metadata": {
        "id": "0y9dhO2Dct9N"
      }
    },
    {
      "cell_type": "code",
      "source": [
        "# it's possible to improve performace by adding the columns as argument to pivot ['0', '200', '401']\n",
        "\n",
        "query = '''SELECT order_id, status_code\n",
        "           FROM ORDERS\n",
        "           WHERE polling_creation_time <= (order_creation_time - INTERVAL 3 minutes) \n",
        "       '''\n",
        "#Through DataFrame API also works\n",
        "#each_poll_status_code_minus_three_min = df_enhanced.filter(f.col('polling_creation_time') <= (f.col(\"order_creation_time\") - f.expr(\"INTERVAL 3 minutes\"))).select('order_id', 'status_code')\n",
        "\n",
        "each_poll_status_code_minus_three_min = sc.sql(query)\n",
        "each_poll_status_code_minus_three_min = each_poll_status_code_minus_three_min.groupBy('order_id').pivot('status_code').count()\n",
        "each_poll_status_code_minus_three_min = each_poll_status_code_minus_three_min.withColumnRenamed('0', 'status_code_0_minus_three_min')\\\n",
        "                                                                              .withColumnRenamed('200', 'status_code_200_minus_three_min')\\\n",
        "                                                                              .withColumnRenamed('401', 'status_code_401_minus_three_min')\n",
        "each_poll_status_code_minus_three_min.show()"
      ],
      "metadata": {
        "colab": {
          "base_uri": "https://localhost:8080/"
        },
        "id": "dTXj_glZo1wd",
        "outputId": "f8722ce0-0c74-4e1c-920b-470c24e2f3d4"
      },
      "execution_count": 37,
      "outputs": [
        {
          "output_type": "stream",
          "name": "stdout",
          "text": [
            "+---------+-----------------------------+-------------------------------+-------------------------------+\n",
            "| order_id|status_code_0_minus_three_min|status_code_200_minus_three_min|status_code_401_minus_three_min|\n",
            "+---------+-----------------------------+-------------------------------+-------------------------------+\n",
            "|102603465|                            1|                           3035|                           null|\n",
            "|102551214|                         null|                           3752|                           null|\n",
            "|102594830|                            3|                            630|                              1|\n",
            "|102609981|                            1|                           3104|                           null|\n",
            "|102651853|                            5|                            544|                              1|\n",
            "|102535727|                            1|                           3160|                           null|\n",
            "|102602920|                            2|                            307|                              1|\n",
            "|102638473|                         null|                           1443|                           null|\n",
            "|102565868|                         null|                            465|                           null|\n",
            "|102513750|                         null|                            942|                           null|\n",
            "|102650281|                         null|                           3781|                           null|\n",
            "|102644931|                            3|                            726|                              1|\n",
            "|102516534|                         null|                           2388|                           null|\n",
            "|102648123|                            6|                           2347|                           null|\n",
            "|102517631|                            1|                           2803|                           null|\n",
            "|102633195|                            2|                           2667|                           null|\n",
            "|102540074|                            1|                           2035|                           null|\n",
            "|102541072|                            1|                            412|                           null|\n",
            "|102650480|                            1|                           2706|                           null|\n",
            "|102571599|                         null|                             41|                           null|\n",
            "+---------+-----------------------------+-------------------------------+-------------------------------+\n",
            "only showing top 20 rows\n",
            "\n"
          ]
        }
      ]
    },
    {
      "cell_type": "markdown",
      "source": [
        "## The count of each type of polling status_code Three minutes after the order creation time"
      ],
      "metadata": {
        "id": "PT1PW89adRNV"
      }
    },
    {
      "cell_type": "code",
      "source": [
        "query = '''SELECT order_id, status_code\n",
        "           FROM ORDERS\n",
        "           WHERE polling_creation_time <= (order_creation_time + INTERVAL 3 minutes) \n",
        "       '''\n",
        "each_poll_status_code_plus_three_min = sc.sql(query)\n",
        "each_poll_status_code_plus_three_min = each_poll_status_code_plus_three_min.groupBy('order_id').pivot('status_code').count()\n",
        "each_poll_status_code_plus_three_min = each_poll_status_code_plus_three_min.withColumnRenamed('0', 'status_code_0_plus_three_min')\\\n",
        "                                                                              .withColumnRenamed('200', 'status_code_200_plus_three_min')\\\n",
        "                                                                              .withColumnRenamed('401', 'status_code_401_plus_three_min')\n",
        "each_poll_status_code_plus_three_min.show()"
      ],
      "metadata": {
        "colab": {
          "base_uri": "https://localhost:8080/"
        },
        "id": "VQslU2oqdW2M",
        "outputId": "f51c9b9a-672e-4cef-a62b-a52133778a44"
      },
      "execution_count": 39,
      "outputs": [
        {
          "output_type": "stream",
          "name": "stdout",
          "text": [
            "+---------+----------------------------+------------------------------+------------------------------+\n",
            "| order_id|status_code_0_plus_three_min|status_code_200_plus_three_min|status_code_401_plus_three_min|\n",
            "+---------+----------------------------+------------------------------+------------------------------+\n",
            "|102603465|                           1|                          3058|                          null|\n",
            "|102551214|                        null|                          3798|                          null|\n",
            "|102594830|                           3|                           642|                             1|\n",
            "|102609981|                           1|                          3127|                          null|\n",
            "|102651853|                           5|                           544|                             1|\n",
            "|102535727|                           1|                          3171|                          null|\n",
            "|102602920|                           2|                           308|                             1|\n",
            "|102638473|                        null|                          1443|                          null|\n",
            "|102565868|                        null|                           485|                          null|\n",
            "|102513750|                        null|                           988|                          null|\n",
            "|102650281|                        null|                          3799|                          null|\n",
            "|102644931|                           3|                           730|                             1|\n",
            "|102516534|                        null|                          2480|                          null|\n",
            "|102648123|                           6|                          2369|                          null|\n",
            "|102517631|                           1|                          2826|                          null|\n",
            "|102633195|                           2|                          2691|                          null|\n",
            "|102540074|                           1|                          2058|                          null|\n",
            "|102541072|                           1|                           422|                          null|\n",
            "|102650480|                           1|                          2729|                          null|\n",
            "|102571599|                        null|                            41|                          null|\n",
            "+---------+----------------------------+------------------------------+------------------------------+\n",
            "only showing top 20 rows\n",
            "\n"
          ]
        }
      ]
    },
    {
      "cell_type": "markdown",
      "source": [
        "## The count of each type of polling status_code One hour before the order creation time"
      ],
      "metadata": {
        "id": "qgZisWBxdi5b"
      }
    },
    {
      "cell_type": "code",
      "source": [
        "query = '''SELECT order_id, status_code\n",
        "           FROM ORDERS\n",
        "           WHERE polling_creation_time <= (order_creation_time - INTERVAL 1 hour) \n",
        "       '''\n",
        "\n",
        "each_poll_status_code_minus_one_hour = sc.sql(query)\n",
        "each_poll_status_code_minus_one_hour = each_poll_status_code_minus_one_hour.groupBy('order_id').pivot('status_code').count()\n",
        "each_poll_status_code_minus_one_hour = each_poll_status_code_minus_one_hour.withColumnRenamed('0', 'status_code_0_minus_one_hour')\\\n",
        "                                                                              .withColumnRenamed('200', 'status_code_200_minus_one_hour')\\\n",
        "                                                                              .withColumnRenamed('401', 'status_code_401_minus_one_hour')\n",
        "each_poll_status_code_minus_one_hour.show()"
      ],
      "metadata": {
        "colab": {
          "base_uri": "https://localhost:8080/"
        },
        "id": "73xW5XCidolj",
        "outputId": "a1e289e7-ad23-4a37-ebab-6703762d6ee0"
      },
      "execution_count": 40,
      "outputs": [
        {
          "output_type": "stream",
          "name": "stdout",
          "text": [
            "+---------+----------------------------+------------------------------+------------------------------+\n",
            "| order_id|status_code_0_minus_one_hour|status_code_200_minus_one_hour|status_code_401_minus_one_hour|\n",
            "+---------+----------------------------+------------------------------+------------------------------+\n",
            "|102603465|                           1|                          2813|                          null|\n",
            "|102551214|                        null|                          3314|                          null|\n",
            "|102594830|                           3|                           618|                          null|\n",
            "|102609981|                           1|                          2884|                          null|\n",
            "|102651853|                           3|                           435|                             1|\n",
            "|102535727|                           1|                          2940|                          null|\n",
            "|102602920|                           1|                           268|                             1|\n",
            "|102638473|                        null|                          1443|                          null|\n",
            "|102565868|                        null|                           449|                          null|\n",
            "|102513750|                        null|                           500|                          null|\n",
            "|102650281|                        null|                          3370|                          null|\n",
            "|102644931|                           3|                           700|                             1|\n",
            "|102516534|                        null|                          1516|                          null|\n",
            "|102648123|                           6|                          2149|                          null|\n",
            "|102517631|                           1|                          2581|                          null|\n",
            "|102633195|                           2|                          2445|                          null|\n",
            "|102540074|                           1|                          1815|                          null|\n",
            "|102541072|                        null|                           334|                          null|\n",
            "|102650480|                           1|                          2485|                          null|\n",
            "|102571599|                        null|                            41|                          null|\n",
            "+---------+----------------------------+------------------------------+------------------------------+\n",
            "only showing top 20 rows\n",
            "\n"
          ]
        }
      ]
    },
    {
      "cell_type": "code",
      "source": [
        "df_each_poll_status_code_count = each_poll_status_code_minus_three_min.join(each_poll_status_code_plus_three_min, 'order_id').join(each_poll_status_code_minus_one_hour, 'order_id')\n",
        "df_each_poll_status_code_count.show()"
      ],
      "metadata": {
        "colab": {
          "base_uri": "https://localhost:8080/"
        },
        "id": "h2W1W2-JL9zn",
        "outputId": "0103d105-eea0-4a81-9b6a-cef50a9c76c7"
      },
      "execution_count": 41,
      "outputs": [
        {
          "output_type": "stream",
          "name": "stdout",
          "text": [
            "+---------+-----------------------------+-------------------------------+-------------------------------+----------------------------+------------------------------+------------------------------+----------------------------+------------------------------+------------------------------+\n",
            "| order_id|status_code_0_minus_three_min|status_code_200_minus_three_min|status_code_401_minus_three_min|status_code_0_plus_three_min|status_code_200_plus_three_min|status_code_401_plus_three_min|status_code_0_minus_one_hour|status_code_200_minus_one_hour|status_code_401_minus_one_hour|\n",
            "+---------+-----------------------------+-------------------------------+-------------------------------+----------------------------+------------------------------+------------------------------+----------------------------+------------------------------+------------------------------+\n",
            "|102513750|                         null|                            988|                           null|                        null|                           988|                          null|                        null|                           500|                          null|\n",
            "|102535727|                            1|                           3171|                           null|                           1|                          3171|                          null|                           1|                          2940|                          null|\n",
            "|102551214|                         null|                           3798|                           null|                        null|                          3798|                          null|                        null|                          3314|                          null|\n",
            "|102565868|                         null|                            485|                           null|                        null|                           485|                          null|                        null|                           449|                          null|\n",
            "|102594830|                            3|                            642|                              1|                           3|                           642|                             1|                           3|                           618|                          null|\n",
            "|102602920|                            2|                            308|                              1|                           2|                           308|                             1|                           1|                           268|                             1|\n",
            "|102603465|                            1|                           3058|                           null|                           1|                          3058|                          null|                           1|                          2813|                          null|\n",
            "|102609981|                            1|                           3127|                           null|                           1|                          3127|                          null|                           1|                          2884|                          null|\n",
            "|102638473|                         null|                           1443|                           null|                        null|                          1443|                          null|                        null|                          1443|                          null|\n",
            "|102651853|                            5|                            544|                              1|                           5|                           544|                             1|                           3|                           435|                             1|\n",
            "|102516534|                         null|                           2480|                           null|                        null|                          2480|                          null|                        null|                          1516|                          null|\n",
            "|102517631|                            1|                           2826|                           null|                           1|                          2826|                          null|                           1|                          2581|                          null|\n",
            "|102540074|                            1|                           2058|                           null|                           1|                          2058|                          null|                           1|                          1815|                          null|\n",
            "|102541072|                            1|                            422|                           null|                           1|                           422|                          null|                        null|                           334|                          null|\n",
            "|102571599|                         null|                             41|                           null|                        null|                            41|                          null|                        null|                            41|                          null|\n",
            "|102633195|                            2|                           2691|                           null|                           2|                          2691|                          null|                           2|                          2445|                          null|\n",
            "|102644931|                            3|                            730|                              1|                           3|                           730|                             1|                           3|                           700|                             1|\n",
            "|102648123|                            6|                           2369|                           null|                           6|                          2369|                          null|                           6|                          2149|                          null|\n",
            "|102650281|                         null|                           3799|                           null|                        null|                          3799|                          null|                        null|                          3370|                          null|\n",
            "|102650480|                            1|                           2729|                           null|                           1|                          2729|                          null|                           1|                          2485|                          null|\n",
            "+---------+-----------------------------+-------------------------------+-------------------------------+----------------------------+------------------------------+------------------------------+----------------------------+------------------------------+------------------------------+\n",
            "only showing top 20 rows\n",
            "\n"
          ]
        }
      ]
    },
    {
      "cell_type": "markdown",
      "source": [
        "## The count of each type of polling error_code Three minutes before the order creation time"
      ],
      "metadata": {
        "id": "2A-ZB9WgeDDa"
      }
    },
    {
      "cell_type": "code",
      "source": [
        "query = '''SELECT order_id, error_code\n",
        "           FROM ORDERS\n",
        "           WHERE polling_creation_time <= (order_creation_time - INTERVAL 3 minutes)\n",
        "           AND error_code IS NOT NULL\n",
        "        '''\n",
        "each_poll_error_code_minus_three_min = sc.sql(query)\n",
        "each_poll_error_code_minus_three_min = each_poll_error_code_minus_three_min.groupBy('order_id').pivot('error_code').count()\n",
        "each_poll_error_code_minus_three_min = each_poll_error_code_minus_three_min.withColumnRenamed('ECONNABORTED', 'ECONNABORTED_ERROR_minus_three_min')\\\n",
        "                                                                              .withColumnRenamed('GENERIC_ERROR', 'GENERIC_ERROR_minus_three_min')\n",
        "each_poll_error_code_minus_three_min.show()"
      ],
      "metadata": {
        "colab": {
          "base_uri": "https://localhost:8080/"
        },
        "id": "YBicUJIPr1NG",
        "outputId": "6f507d01-eda9-425b-b765-afc6aefd9fb0"
      },
      "execution_count": 42,
      "outputs": [
        {
          "output_type": "stream",
          "name": "stdout",
          "text": [
            "+---------+----------------------------+-----------------------------+\n",
            "| order_id|ECONNABORTED_minus_three_min|GENERIC_ERROR_minus_three_min|\n",
            "+---------+----------------------------+-----------------------------+\n",
            "|102603465|                           1|                         null|\n",
            "|102602920|                           2|                            1|\n",
            "|102651853|                           5|                            1|\n",
            "|102609981|                           1|                         null|\n",
            "|102535727|                           1|                         null|\n",
            "|102594830|                           3|                            1|\n",
            "|102644931|                           3|                            1|\n",
            "|102540074|                           1|                         null|\n",
            "|102633195|                           1|                            1|\n",
            "|102650480|                           1|                         null|\n",
            "|102541072|                           1|                         null|\n",
            "|102648123|                           4|                            2|\n",
            "|102517631|                           1|                         null|\n",
            "|102502447|                           1|                         null|\n",
            "|102632202|                           4|                            4|\n",
            "|102654971|                           1|                         null|\n",
            "|102587548|                           2|                         null|\n",
            "|102624009|                           1|                            1|\n",
            "|102638463|                           3|                         null|\n",
            "|102558011|                           3|                         null|\n",
            "+---------+----------------------------+-----------------------------+\n",
            "only showing top 20 rows\n",
            "\n"
          ]
        }
      ]
    },
    {
      "cell_type": "markdown",
      "source": [
        "## The count of each type of polling error_code Three minutes after the order creation time"
      ],
      "metadata": {
        "id": "lWTuc5WyemS6"
      }
    },
    {
      "cell_type": "code",
      "source": [
        "query = '''SELECT order_id, error_code\n",
        "           FROM ORDERS\n",
        "           WHERE polling_creation_time <= (order_creation_time + INTERVAL 3 minutes)\n",
        "           AND error_code IS NOT NULL\n",
        "        '''\n",
        "each_poll_error_code_plus_three_min = sc.sql(query)\n",
        "each_poll_error_code_plus_three_min = each_poll_error_code_plus_three_min.groupBy('order_id').pivot('error_code').count()\n",
        "each_poll_error_code_plus_three_min = each_poll_error_code_plus_three_min.withColumnRenamed('ECONNABORTED', 'ECONNABORTED_ERROR_plus_three_min')\\\n",
        "                                                                              .withColumnRenamed('GENERIC_ERROR', 'GENERIC_ERROR_plus_three_min')\n",
        "each_poll_error_code_plus_three_min.show()"
      ],
      "metadata": {
        "colab": {
          "base_uri": "https://localhost:8080/"
        },
        "id": "pfNZAr14ep92",
        "outputId": "a74c74c7-53af-4e77-98da-d9c00ea5d9a4"
      },
      "execution_count": 43,
      "outputs": [
        {
          "output_type": "stream",
          "name": "stdout",
          "text": [
            "+---------+---------------------------------+----------------------------+\n",
            "| order_id|ECONNABORTED_ERROR_plus_three_min|GENERIC_ERROR_plus_three_min|\n",
            "+---------+---------------------------------+----------------------------+\n",
            "|102603465|                                1|                        null|\n",
            "|102602920|                                2|                           1|\n",
            "|102651853|                                5|                           1|\n",
            "|102609981|                                1|                        null|\n",
            "|102535727|                                1|                        null|\n",
            "|102594830|                                3|                           1|\n",
            "|102644931|                                3|                           1|\n",
            "|102540074|                                1|                        null|\n",
            "|102633195|                                1|                           1|\n",
            "|102650480|                                1|                        null|\n",
            "|102541072|                                1|                        null|\n",
            "|102648123|                                4|                           2|\n",
            "|102517631|                                1|                        null|\n",
            "|102502447|                                1|                        null|\n",
            "|102632202|                                4|                           4|\n",
            "|102654971|                                1|                        null|\n",
            "|102587548|                                2|                        null|\n",
            "|102624009|                                1|                           1|\n",
            "|102638463|                                3|                        null|\n",
            "|102558011|                                4|                        null|\n",
            "+---------+---------------------------------+----------------------------+\n",
            "only showing top 20 rows\n",
            "\n"
          ]
        }
      ]
    },
    {
      "cell_type": "markdown",
      "source": [
        "## The count of each type of polling error_code One hour before the order creation time"
      ],
      "metadata": {
        "id": "4lleD5pheyRp"
      }
    },
    {
      "cell_type": "code",
      "source": [
        "query = '''SELECT order_id, error_code\n",
        "           FROM ORDERS\n",
        "           WHERE polling_creation_time <= (order_creation_time - INTERVAL 1 hour)\n",
        "           AND error_code IS NOT NULL\n",
        "        '''\n",
        "each_poll_error_code_minus_one_hour = sc.sql(query)\n",
        "each_poll_error_code_minus_one_hour = each_poll_error_code_minus_one_hour.groupBy('order_id').pivot('error_code').count()\n",
        "each_poll_error_code_minus_one_hour = each_poll_error_code_minus_one_hour.withColumnRenamed('ECONNABORTED', 'ECONNABORTED_ERROR_minus_one_hour')\\\n",
        "                                                                              .withColumnRenamed('GENERIC_ERROR', 'GENERIC_ERROR_minus_one_hour')\n",
        "each_poll_error_code_minus_one_hour.show()"
      ],
      "metadata": {
        "colab": {
          "base_uri": "https://localhost:8080/"
        },
        "id": "NDHEITiPe4TZ",
        "outputId": "fec034df-fc90-4651-8baf-590d1ae9875d"
      },
      "execution_count": 44,
      "outputs": [
        {
          "output_type": "stream",
          "name": "stdout",
          "text": [
            "+---------+---------------------------------+----------------------------+\n",
            "| order_id|ECONNABORTED_ERROR_minus_one_hour|GENERIC_ERROR_minus_one_hour|\n",
            "+---------+---------------------------------+----------------------------+\n",
            "|102603465|                                1|                        null|\n",
            "|102602920|                                1|                           1|\n",
            "|102651853|                                3|                           1|\n",
            "|102609981|                                1|                        null|\n",
            "|102535727|                                1|                        null|\n",
            "|102594830|                                3|                        null|\n",
            "|102644931|                                3|                           1|\n",
            "|102540074|                                1|                        null|\n",
            "|102633195|                                1|                           1|\n",
            "|102650480|                                1|                        null|\n",
            "|102648123|                                4|                           2|\n",
            "|102517631|                                1|                        null|\n",
            "|102502447|                                1|                        null|\n",
            "|102632202|                                4|                           4|\n",
            "|102654971|                                1|                        null|\n",
            "|102587548|                                2|                        null|\n",
            "|102624009|                                1|                           1|\n",
            "|102638463|                                3|                        null|\n",
            "|102558011|                                1|                        null|\n",
            "|102631370|                                3|                           1|\n",
            "+---------+---------------------------------+----------------------------+\n",
            "only showing top 20 rows\n",
            "\n"
          ]
        }
      ]
    },
    {
      "cell_type": "code",
      "source": [
        "df_each_poll_error_code_count = each_poll_error_code_minus_three_min.join(each_poll_error_code_plus_three_min, 'order_id').join(each_poll_error_code_minus_one_hour, 'order_id')\n",
        "df_each_poll_error_code_count.show()"
      ],
      "metadata": {
        "colab": {
          "base_uri": "https://localhost:8080/"
        },
        "id": "rFqRrG38PIGw",
        "outputId": "0a89a990-001c-4a93-fe30-b213393bcad5"
      },
      "execution_count": 45,
      "outputs": [
        {
          "output_type": "stream",
          "name": "stdout",
          "text": [
            "+---------+----------------------------+-----------------------------+---------------------------------+----------------------------+---------------------------------+----------------------------+\n",
            "| order_id|ECONNABORTED_minus_three_min|GENERIC_ERROR_minus_three_min|ECONNABORTED_ERROR_plus_three_min|GENERIC_ERROR_plus_three_min|ECONNABORTED_ERROR_minus_one_hour|GENERIC_ERROR_minus_one_hour|\n",
            "+---------+----------------------------+-----------------------------+---------------------------------+----------------------------+---------------------------------+----------------------------+\n",
            "|102535727|                           1|                         null|                                1|                        null|                                1|                        null|\n",
            "|102594830|                           3|                            1|                                3|                           1|                                3|                        null|\n",
            "|102602920|                           2|                            1|                                2|                           1|                                1|                           1|\n",
            "|102603465|                           1|                         null|                                1|                        null|                                1|                        null|\n",
            "|102609981|                           1|                         null|                                1|                        null|                                1|                        null|\n",
            "|102651853|                           5|                            1|                                5|                           1|                                3|                           1|\n",
            "|102517631|                           1|                         null|                                1|                        null|                                1|                        null|\n",
            "|102540074|                           1|                         null|                                1|                        null|                                1|                        null|\n",
            "|102633195|                           1|                            1|                                1|                           1|                                1|                           1|\n",
            "|102644931|                           3|                            1|                                3|                           1|                                3|                           1|\n",
            "|102648123|                           4|                            2|                                4|                           2|                                4|                           2|\n",
            "|102650480|                           1|                         null|                                1|                        null|                                1|                        null|\n",
            "|102502447|                           1|                         null|                                1|                        null|                                1|                        null|\n",
            "|102523786|                           1|                         null|                                1|                        null|                                1|                        null|\n",
            "|102558011|                           3|                         null|                                4|                        null|                                1|                        null|\n",
            "|102587548|                           2|                         null|                                2|                        null|                                2|                        null|\n",
            "|102603338|                           1|                         null|                                1|                        null|                                1|                        null|\n",
            "|102624009|                           1|                            1|                                1|                           1|                                1|                           1|\n",
            "|102631370|                           3|                            1|                                3|                           1|                                3|                           1|\n",
            "|102632202|                           4|                            4|                                4|                           4|                                4|                           4|\n",
            "+---------+----------------------------+-----------------------------+---------------------------------+----------------------------+---------------------------------+----------------------------+\n",
            "only showing top 20 rows\n",
            "\n"
          ]
        }
      ]
    },
    {
      "cell_type": "markdown",
      "source": [
        "## The count of responses without error codes Three minutes before the order creation time"
      ],
      "metadata": {
        "id": "mAl8R-Qff4pQ"
      }
    },
    {
      "cell_type": "code",
      "source": [
        "query = '''SELECT order_id, error_code\n",
        "           FROM ORDERS\n",
        "           WHERE polling_creation_time <= (order_creation_time - INTERVAL 3 minutes)\n",
        "           AND error_code IS NULL\n",
        "        '''\n",
        "\n",
        "each_poll_without_error_code_minus_three_min = sc.sql(query)\n",
        "each_poll_without_error_code_minus_three_min = each_poll_without_error_code_minus_three_min.groupBy('order_id').pivot('error_code').count()\n",
        "each_poll_without_error_code_minus_three_min = each_poll_without_error_code_minus_three_min.withColumnRenamed('null', 'responses_without_error_minus_three_min')\n",
        "\n",
        "each_poll_without_error_code_minus_three_min.show()"
      ],
      "metadata": {
        "colab": {
          "base_uri": "https://localhost:8080/"
        },
        "id": "vuLA-MFAsmRk",
        "outputId": "2b619222-ab40-4a58-b36e-7e9eafc18a63"
      },
      "execution_count": 47,
      "outputs": [
        {
          "output_type": "stream",
          "name": "stdout",
          "text": [
            "+---------+---------------------------------------+\n",
            "| order_id|responses_without_error_minus_three_min|\n",
            "+---------+---------------------------------------+\n",
            "|102638473|                                   1443|\n",
            "|102513750|                                    942|\n",
            "|102609981|                                   3104|\n",
            "|102603465|                                   3035|\n",
            "|102565868|                                    465|\n",
            "|102535727|                                   3160|\n",
            "|102651853|                                    544|\n",
            "|102602920|                                    307|\n",
            "|102594830|                                    630|\n",
            "|102551214|                                   3752|\n",
            "|102633195|                                   2667|\n",
            "|102516534|                                   2388|\n",
            "|102650480|                                   2706|\n",
            "|102540074|                                   2035|\n",
            "|102650281|                                   3781|\n",
            "|102648123|                                   2347|\n",
            "|102517631|                                   2803|\n",
            "|102571599|                                     41|\n",
            "|102644931|                                    726|\n",
            "|102541072|                                    412|\n",
            "+---------+---------------------------------------+\n",
            "only showing top 20 rows\n",
            "\n"
          ]
        }
      ]
    },
    {
      "cell_type": "markdown",
      "source": [
        "## The count of responses without error codes Three minutes after the order creation time"
      ],
      "metadata": {
        "id": "yhzq5nWzgAMc"
      }
    },
    {
      "cell_type": "code",
      "source": [
        "query = '''SELECT order_id, error_code\n",
        "           FROM ORDERS\n",
        "           WHERE polling_creation_time <= (order_creation_time + INTERVAL 3 minutes)\n",
        "           AND error_code IS NULL\n",
        "        '''\n",
        "\n",
        "each_poll_without_error_code_plus_three_min = sc.sql(query)\n",
        "each_poll_without_error_code_plus_three_min = each_poll_without_error_code_plus_three_min.groupBy('order_id').pivot('error_code').count()\n",
        "each_poll_without_error_code_plus_three_min = each_poll_without_error_code_plus_three_min.withColumnRenamed('null', 'responses_without_error_plus_three_min')\n",
        "\n",
        "each_poll_without_error_code_plus_three_min.show()"
      ],
      "metadata": {
        "colab": {
          "base_uri": "https://localhost:8080/"
        },
        "id": "RvZuhgCRhw7B",
        "outputId": "c5e05c60-3868-4f47-8fc1-3d628dd75dbb"
      },
      "execution_count": 48,
      "outputs": [
        {
          "output_type": "stream",
          "name": "stdout",
          "text": [
            "+---------+--------------------------------------+\n",
            "| order_id|responses_without_error_plus_three_min|\n",
            "+---------+--------------------------------------+\n",
            "|102638473|                                  1443|\n",
            "|102513750|                                   988|\n",
            "|102609981|                                  3127|\n",
            "|102603465|                                  3058|\n",
            "|102565868|                                   485|\n",
            "|102535727|                                  3171|\n",
            "|102651853|                                   544|\n",
            "|102602920|                                   308|\n",
            "|102594830|                                   642|\n",
            "|102551214|                                  3798|\n",
            "|102633195|                                  2691|\n",
            "|102516534|                                  2480|\n",
            "|102650480|                                  2729|\n",
            "|102540074|                                  2058|\n",
            "|102650281|                                  3799|\n",
            "|102648123|                                  2369|\n",
            "|102517631|                                  2826|\n",
            "|102571599|                                    41|\n",
            "|102644931|                                   730|\n",
            "|102541072|                                   422|\n",
            "+---------+--------------------------------------+\n",
            "only showing top 20 rows\n",
            "\n"
          ]
        }
      ]
    },
    {
      "cell_type": "markdown",
      "source": [
        "## The count of responses without error codes One hour before the order creation time"
      ],
      "metadata": {
        "id": "xOJSeYA6iFKD"
      }
    },
    {
      "cell_type": "code",
      "source": [
        "query = '''SELECT order_id, error_code\n",
        "           FROM ORDERS\n",
        "           WHERE polling_creation_time <= (order_creation_time - INTERVAL 1 hour)\n",
        "           AND error_code IS NULL\n",
        "        '''\n",
        "\n",
        "each_poll_without_error_code_minus_one_hour = sc.sql(query)\n",
        "each_poll_without_error_code_minus_one_hour = each_poll_without_error_code_minus_one_hour.groupBy('order_id').pivot('error_code').count()\n",
        "each_poll_without_error_code_minus_one_hour = each_poll_without_error_code_minus_one_hour.withColumnRenamed('null', 'responses_without_error_minus_one_hour')\n",
        "\n",
        "each_poll_without_error_code_minus_one_hour.show()"
      ],
      "metadata": {
        "id": "nKT8r624t2Dh",
        "colab": {
          "base_uri": "https://localhost:8080/"
        },
        "outputId": "87fb6f92-c419-48e4-b41d-27a439dde61e"
      },
      "execution_count": 49,
      "outputs": [
        {
          "output_type": "stream",
          "name": "stdout",
          "text": [
            "+---------+--------------------------------------+\n",
            "| order_id|responses_without_error_minus_one_hour|\n",
            "+---------+--------------------------------------+\n",
            "|102638473|                                  1443|\n",
            "|102513750|                                   500|\n",
            "|102609981|                                  2884|\n",
            "|102603465|                                  2813|\n",
            "|102565868|                                   449|\n",
            "|102535727|                                  2940|\n",
            "|102651853|                                   435|\n",
            "|102602920|                                   268|\n",
            "|102594830|                                   618|\n",
            "|102551214|                                  3314|\n",
            "|102633195|                                  2445|\n",
            "|102516534|                                  1516|\n",
            "|102650480|                                  2485|\n",
            "|102540074|                                  1815|\n",
            "|102648123|                                  2149|\n",
            "|102650281|                                  3370|\n",
            "|102517631|                                  2581|\n",
            "|102571599|                                    41|\n",
            "|102644931|                                   700|\n",
            "|102541072|                                   334|\n",
            "+---------+--------------------------------------+\n",
            "only showing top 20 rows\n",
            "\n"
          ]
        }
      ]
    },
    {
      "cell_type": "code",
      "source": [
        "df_responses_without_error_count = each_poll_without_error_code_minus_three_min.join(each_poll_without_error_code_plus_three_min, 'order_id').join(each_poll_without_error_code_minus_one_hour, 'order_id')\n",
        "df_responses_without_error_count.show()"
      ],
      "metadata": {
        "id": "F2PXrQQxi3zQ",
        "colab": {
          "base_uri": "https://localhost:8080/"
        },
        "outputId": "00eb4cf6-0598-49fb-80da-953fd9167216"
      },
      "execution_count": 50,
      "outputs": [
        {
          "output_type": "stream",
          "name": "stdout",
          "text": [
            "+---------+---------------------------------------+--------------------------------------+--------------------------------------+\n",
            "| order_id|responses_without_error_minus_three_min|responses_without_error_plus_three_min|responses_without_error_minus_one_hour|\n",
            "+---------+---------------------------------------+--------------------------------------+--------------------------------------+\n",
            "|102513750|                                    942|                                   988|                                   500|\n",
            "|102535727|                                   3160|                                  3171|                                  2940|\n",
            "|102551214|                                   3752|                                  3798|                                  3314|\n",
            "|102565868|                                    465|                                   485|                                   449|\n",
            "|102594830|                                    630|                                   642|                                   618|\n",
            "|102602920|                                    307|                                   308|                                   268|\n",
            "|102603465|                                   3035|                                  3058|                                  2813|\n",
            "|102609981|                                   3104|                                  3127|                                  2884|\n",
            "|102638473|                                   1443|                                  1443|                                  1443|\n",
            "|102651853|                                    544|                                   544|                                   435|\n",
            "|102516534|                                   2388|                                  2480|                                  1516|\n",
            "|102517631|                                   2803|                                  2826|                                  2581|\n",
            "|102540074|                                   2035|                                  2058|                                  1815|\n",
            "|102541072|                                    412|                                   422|                                   334|\n",
            "|102571599|                                     41|                                    41|                                    41|\n",
            "|102633195|                                   2667|                                  2691|                                  2445|\n",
            "|102644931|                                    726|                                   730|                                   700|\n",
            "|102648123|                                   2347|                                  2369|                                  2149|\n",
            "|102650281|                                   3781|                                  3799|                                  3370|\n",
            "|102650480|                                   2706|                                  2729|                                  2485|\n",
            "+---------+---------------------------------------+--------------------------------------+--------------------------------------+\n",
            "only showing top 20 rows\n",
            "\n"
          ]
        }
      ]
    },
    {
      "cell_type": "code",
      "source": [
        ""
      ],
      "metadata": {
        "id": "5CJ5KuTHTiJP"
      },
      "execution_count": null,
      "outputs": []
    }
  ]
}